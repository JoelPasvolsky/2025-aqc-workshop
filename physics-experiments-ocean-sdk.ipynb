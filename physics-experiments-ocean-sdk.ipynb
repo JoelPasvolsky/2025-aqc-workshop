{
 "cells": [
  {
   "cell_type": "markdown",
   "id": "5beade21-5f64-4b07-97af-5559a287496d",
   "metadata": {},
   "source": [
    "# Some notes on the KZ and LZ experiments, and related experiments"
   ]
  },
  {
   "cell_type": "markdown",
   "id": "a1d626d2-56b0-42ea-94fa-23fd8063c7ce",
   "metadata": {},
   "source": [
    "## Where to learn more\n",
    "\n",
    "[Coherent quantum annealing in a\n",
    "programmable 2,000 qubit Ising chain,\n",
    "Nature Physics (2022)](https://doi.org/10.1038/s41567-022-01741-6) Figure 2A reproduced ([preprint](https://doi.org/10.48550/arXiv.2202.05847))\n",
    "\n",
    "[Quantum critical dynamics in a\n",
    "5,000-qubit programmable spin glass,\n",
    "Nature (2023)](https://doi.org/10.1038/s41586-023-05867-2) Figure 2C reproduced ([preprint](https://doi.org/10.48550/arXiv.2207.13800))\n",
    "\n",
    "[Other publications](https://www.dwavequantum.com/learn/publications/)\n",
    "\n",
    "[youtube channel](https://www.youtube.com/@dwavequantum)\n",
    "\n",
    "[Per QPU-properties](https://docs.dwavequantum.com/en/latest/quantum_research/solver_properties_specific.html) (schedules, energy scales, single-qubit freeze out 's') \n",
    "\n",
    "[Documentation](https://docs.dwavequantum.com/en/latest/index.html)\n",
    "\n",
    "[github](https://github.com/dwavesystems/)\n",
    "\n",
    "[Leap examples](https://cloud.dwavesys.com/leap/examples)\n",
    "\n",
    "[Leap resources](https://cloud.dwavesys.com/leap/resources)"
   ]
  },
  {
   "cell_type": "markdown",
   "id": "de4dc43e-b8b2-4739-a30e-91b99c683123",
   "metadata": {},
   "source": [
    "## Embedding:\n",
    "\n",
    "Minorminer has a variety of heuristic tools, and tools with guaranteed performance:\n",
    "\n",
    "* general mappings: [minorminer.find_embeddings](https://docs.dwavequantum.com/en/latest/ocean/api_ref_system/generated/minorminer.find_embedding.html#minorminer-find-embedding)\n",
    "* 1:1 mappings (native/subgraph): **[minorminer.subgraph.find_embedding]()**\n",
    "* Clique and Biclique embedding: [minorminer.busclique.find_clique_embedding](https://docs.dwavequantum.com/en/latest/ocean/api_ref_minorminer/source/clique_embedding.html#minorminer.busclique.find_clique_embedding)\n",
    "\n",
    "Choose the right tool, it can be very inefficient to make a bad choice. Consider a customized approach for regular cases, e.g.:\n",
    "* Defect-free (1:1) Next-neighbor-square, Kings, square, triangle); or Defect-free (chains) cubic [hybrid.decomposers.make_origin_embeddings](https://docs.dwavequantum.com/en/latest/ocean/api_ref_hybrid/generated/hybrid.decomposers.make_origin_embeddings.html#hybrid.decomposers.make_origin_embeddings):\n",
    "\n",
    "Parallelization of embeddings recently supported:\n",
    "**[minorminer.utils.parallel_embedding.find_multiple_embeddings]()**"
   ]
  },
  {
   "cell_type": "code",
   "execution_count": 3,
   "id": "2edce02a-4e2f-42c1-877e-52801e4e954d",
   "metadata": {},
   "outputs": [
    {
     "name": "stdout",
     "output_type": "stream",
     "text": [
      "{0: 3194, 1: 3209, 2: 2760}\n"
     ]
    }
   ],
   "source": [
    "from minorminer.subgraph import find_subgraph\n",
    "from dwave.system import DWaveSampler\n",
    "h = {i: 0 for i in range(3)}\n",
    "J = {(0,1): 1, (1,2): 1, (0,2): 1}  # An antiferromagnetic 3-cycle\n",
    "qpu = DWaveSampler()\n",
    "emb1to1 = find_subgraph(J.keys(), qpu.to_networkx_graph())  # Edge list \n",
    "print(emb1to1)\n",
    "emb = {k: (v,) for k, v in emb1to1.items()}"
   ]
  },
  {
   "cell_type": "markdown",
   "id": "cfcaeee6-5e7b-42d1-be2c-110bc34e800d",
   "metadata": {},
   "source": [
    "## Noise-mitigation/investigation:\n",
    "Most of our research papers involve shimming. The general-purpose calibration can be refined for specific models to eliminate specific cross-talks and non-idealities:\n",
    "* [Calibration refinement](https://doi.org/10.3389/fcomp.2023.1238988) Published paper and (recently updated) demonstration code; We can tune parameters such as flux_biases to restore expected symmetries.\n",
    "* We can extend this in principle to learning general distributions [pytorch plug-in](https://github.com/dwavesystems/dwave-pytorch-plugin/blob/main/README.rst)\n",
    "\n",
    "Another option is to use spin-reversal transforms: \n",
    "* Spin-reversal transforms with respect to the noise-free evolution amounts to a change of basis (gauge)\n",
    "* With respect to the programmed realization, a change of basis leads to new noise patterns.\n",
    "* By averaging we eliminate noise. e.g. the effect of independent and identically distributed flux (h) noise is eliminated at leading order.\n",
    "```\n",
    "    qpu = DWaveSampler(solver='Advantage2_prototype2.6')\n",
    "    sampler = SpinReversalTransformComposite(qpu)  # Composites applies (and inverts) the transformation\n",
    "```\n",
    "\n",
    "Another option is averaging over embeddings:\n",
    "* Use randomized or parallelized embeddings\n",
    "```\n",
    "    qpu = DWaveSampler(solver='Advantage2_prototype2.6')\n",
    "    sampler1 = SpinReversalTransformComposite(qpu)  \n",
    "    source = nx.from_edgelist([(i, i+1) for i in range(3)])  # A path (1d chain) of size 4\n",
    "    sampler2 = ParallelEmbeddingComposite(sampler2) # Composites distributes and inverts (a distribution on 4-spins is returned)\n",
    "```\n",
    "* Exploit symmetries of the source model (Ising model) to permute a known embedding.\n",
    "* Many physics models have high symmetry: tranlational, rotational and reflection symmetry. These might be put in by hand, or a tool like pynauty can be used (see e.g. the shimming tutorial).\n"
   ]
  },
  {
   "cell_type": "code",
   "execution_count": 4,
   "id": "d313eab8-69b8-46a7-96da-8357714c4dd3",
   "metadata": {},
   "outputs": [
    {
     "name": "stdout",
     "output_type": "stream",
     "text": [
      "{0: (3194,), 1: (3209,), 2: (2760,)}\n",
      "{1: (3194,), 2: (3209,), 0: (2760,)}\n"
     ]
    }
   ],
   "source": [
    "from dwave.embedding import is_valid_embedding\n",
    "import networkx as nx\n",
    "translation_on_3cycle = {0:1, 1:2, 2:0}\n",
    "emb2 = {translation_on_3cycle[k]: v for k,v in emb.items()}\n",
    "print(emb)\n",
    "assert is_valid_embedding(emb, J.keys(), qpu.to_networkx_graph())\n",
    "print(emb2)\n",
    "assert is_valid_embedding(emb2, J.keys(), qpu.to_networkx_graph())"
   ]
  },
  {
   "cell_type": "code",
   "execution_count": 7,
   "id": "43745495-9f87-49d2-9eca-eef92b8434ef",
   "metadata": {},
   "outputs": [
    {
     "name": "stdout",
     "output_type": "stream",
     "text": [
      "[-1. -1. -1. -1. -1. -1.] [ 92 226 187 257 105 133]\n"
     ]
    }
   ],
   "source": [
    "from dwave.preprocessing import SpinReversalTransformComposite\n",
    "from dwave.system.composites import FixedEmbeddingComposite\n",
    "sampler = FixedEmbeddingComposite(SpinReversalTransformComposite(qpu), embedding=emb)\n",
    "ss = sampler.sample_ising(h, J, num_reads=1000)\n",
    "print(ss.record.energy, ss.record.num_occurrences)"
   ]
  },
  {
   "cell_type": "markdown",
   "id": "94fff6f8-7626-4bc2-a6cf-d813aef49cfc",
   "metadata": {},
   "source": [
    "## Temperature (quasi-static freezeout)\n",
    "\n",
    "If the model is maximum entropy subject to some rate of excitations (energy), it is a Boltzmann distribution.\n",
    "\n",
    "This is expected for single-late freeze-out (thermal equilibrium up to the small A(s) limit, then dynamical arrest)\n",
    "\n",
    "The local pattern of excitations is sufficient to efficiently infer the temperature with enough samples:\n",
    "```\n",
    "    qpu = DWaveSampler(solver='Advantage2_prototype2.6')\n",
    "    dwave.system.temperatures.fast_effective_temperature(qpu)  # By default, uses independent spins\n",
    "```\n",
    "Note that, if the distribution is not Boltzmann due to ergodicity breaking (trapping by local minima) we expect the rate of local excitations to be smaller than the rate of general excitations. Quantum-Boltzmann and noise effects can also lead to bias in estimators."
   ]
  },
  {
   "cell_type": "code",
   "execution_count": 16,
   "id": "92929dd4-cff8-4224-9ba6-970b1ee89d63",
   "metadata": {},
   "outputs": [
    {
     "name": "stdout",
     "output_type": "stream",
     "text": [
      "Unitless temperatures characterizing the two QPUs 0.11744768421923785 0.16884139784615673\n"
     ]
    }
   ],
   "source": [
    "from dwave.system.temperatures import fast_effective_temperature\n",
    "from dwave.system import DWaveSampler\n",
    "qpu = DWaveSampler(solver='Advantage2_prototype2.6')\n",
    "T1, _ = fast_effective_temperature(qpu)  # By default, uses independent spins\n",
    "qpu = DWaveSampler(solver='Advantage_system4.1')\n",
    "T2, _ = fast_effective_temperature(qpu)  # By default, uses independent spins\n",
    "print('Unitless temperatures characterizing the two QPUs', T1, T2)"
   ]
  },
  {
   "cell_type": "markdown",
   "id": "c5f9d7a7-fb17-4299-841a-7d5a896b17ad",
   "metadata": {},
   "source": [
    "## Classical dynamics\n",
    "\n",
    "We include a variety of heuristic optimizer and classical dynamics include path-integral monte carlo, rotor models and simulated annealing"
   ]
  },
  {
   "cell_type": "code",
   "execution_count": null,
   "id": "1579f29b-289b-4f8d-bcb0-b57b77a16f4a",
   "metadata": {},
   "outputs": [],
   "source": [
    "from dwave.samplers import SimulatedAnnealingSampler\n",
    "sampler = SimulatedAnnealingSampler()\n",
    "sampler.sample_ising(h, J, randomize_order=True, acceptance_criteria='Gibbs', num_sweeps = 16, beta_schedule=[1/T1,1/T1])"
   ]
  },
  {
   "cell_type": "code",
   "execution_count": null,
   "id": "bc5af3ba-2960-4259-957a-7a9b37523936",
   "metadata": {},
   "outputs": [],
   "source": []
  }
 ],
 "metadata": {
  "kernelspec": {
   "display_name": "Python 3 (ipykernel)",
   "language": "python",
   "name": "python3"
  },
  "language_info": {
   "codemirror_mode": {
    "name": "ipython",
    "version": 3
   },
   "file_extension": ".py",
   "mimetype": "text/x-python",
   "name": "python",
   "nbconvert_exporter": "python",
   "pygments_lexer": "ipython3",
   "version": "3.11.10"
  }
 },
 "nbformat": 4,
 "nbformat_minor": 5
}
