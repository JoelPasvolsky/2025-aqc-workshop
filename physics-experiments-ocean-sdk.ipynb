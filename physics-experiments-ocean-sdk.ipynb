{
 "cells": [
  {
   "cell_type": "markdown",
   "id": "5beade21-5f64-4b07-97af-5559a287496d",
   "metadata": {},
   "source": [
    "# Some notes on the KZ and LZ experiments, and related experiments"
   ]
  },
  {
   "cell_type": "markdown",
   "id": "a1d626d2-56b0-42ea-94fa-23fd8063c7ce",
   "metadata": {},
   "source": [
    "## Where to learn more\n",
    "\n",
    "We have done our best with documentation!\n",
    "[docs](https://docs.dwavequantum.com/en/latest/index.html)\n",
    "\n",
    "We are open source:\n",
    "[github](https://github.com/dwavesystems/)\n",
    "\n",
    "Feedback on errors and omissions is welcome: [community](https://github.com/dwavesystems/)"
   ]
  },
  {
   "cell_type": "markdown",
   "id": "de4dc43e-b8b2-4739-a30e-91b99c683123",
   "metadata": {},
   "source": [
    "## Embedding:\n",
    "\n",
    "Minorminer has a variety of heuristic tools, and tools with guaranteed performance:\n",
    "\n",
    "* general mappings: [minorminer.find_embeddings](https://docs.dwavequantum.com/en/latest/ocean/api_ref_system/generated/minorminer.find_embedding.html#minorminer-find-embedding)\n",
    "* 1:1 mappings (native/subgraph): [minorminer.subgraph.find_embedding](https://docs.dwavequantum.com/en/latest/ocean/api_ref_minorminer/source/subgraph.html#minorminer.subgraph.find_embedding)\n",
    "* Clique and Biclique embedding: [minorminer.busclique.find_clique_embedding](https://docs.dwavequantum.com/en/latest/ocean/api_ref_minorminer/source/clique_embedding.html#minorminer.busclique.find_clique_embedding)\n",
    "\n",
    "Choose the right tool, it can be very inefficient to make a bad choice. Consider a customized approach for regular cases, e.g.:\n",
    "* Defect-free 1:1 (Next-neighbor-square, Kings, square, triangle) or Defect-free 1:several cubic [hybrid.decomposers.make_origin_embeddings](https://docs.dwavequantum.com/en/latest/ocean/api_ref_hybrid/generated/hybrid.decomposers.make_origin_embeddings.html#hybrid.decomposers.make_origin_embeddings):\n",
    "\n",
    "Parallelization of embeddings recently supported:\n",
    "[minorminer.utils.parallel_embedding.find_multiple_embeddings](https://docs.dwavequantum.com/en/latest/ocean/api_ref_minorminer/source/clique_embedding.html#minorminer.utils.parallel_embeddings.find_multiple_embeddings)"
   ]
  },
  {
   "cell_type": "markdown",
   "id": "cfcaeee6-5e7b-42d1-be2c-110bc34e800d",
   "metadata": {},
   "source": [
    "## Noise-mitigation/investigation:\n",
    "Most of our research papers involve shimming. The general-purpose calibration can be refined for specific models to eliminate specific cross-talks and non-idealities:\n",
    "* [Calibration refinement](https://doi.org/10.3389/fcomp.2023.1238988) Published paper and (recently updated) demonstration code; We can tune parameters such as flux_biases to restore expected symmetries.\n",
    "* We can extend this to learning general distributions [pytorch plug-in](https://github.com/dwavesystems/dwave-pytorch-plugin/blob/main/README.rst)\n",
    "\n",
    "Another option is to use spin-reversal transforms: \n",
    "* Spin-reversal transforms with respect to the noise-free evolution amounts to a change of basis (gauge)\n",
    "* With respect to the programmed realization, a change of basis leads to new noise patterns.\n",
    "* By averaging we eliminate noise. e.g. the effect of independent and identically distributed flux (h) noise is eliminated at leading order.\n",
    "```\n",
    "    qpu = DWaveSampler(solver='Advantage2_prototype2.6')\n",
    "    sampler = SpinReversalTransformComposite(qpu)  # Composites applies (and inverts) the transformation\n",
    "```\n",
    "\n",
    "Another option is averaging over embeddings:\n",
    "* Use randomized or parallelized embeddings\n",
    "```\n",
    "    qpu = DWaveSampler(solver='Advantage2_prototype2.6')\n",
    "    sampler = SpinReversalTransformComposite(qpu)  \n",
    "    source = nx.from_edgelist([(i, i+1) for i in range(3)])  # A path (1d chain) of size 4\n",
    "    sampler = ParallelEmbeddingComposite(sampler) # Composites distributes and inverts (a distribution on 4-spins is returned)\n",
    "```\n",
    "* Exploit symmetries of the source model (Ising model) to permute a known embedding: "
   ]
  },
  {
   "cell_type": "markdown",
   "id": "94fff6f8-7626-4bc2-a6cf-d813aef49cfc",
   "metadata": {},
   "source": [
    "## Temperature (quasi-static freezeout)\n",
    "\n",
    "If the model is maximum entropy, subject to some rate of excitations (energy), it is a Boltzmann distribution.\n",
    "\n",
    "The local pattern of excitations is sufficient to infer the temperature with enough samples:\n",
    "```\n",
    "    qpu = DWaveSampler(solver='Advantage2_prototype2.6')\n",
    "    dwave.system.temperatures.fast_effective_temperature(qpu)  # By default, uses independent spins\n",
    "```\n",
    "Note that, if the distribution is not Boltzmann due to ergodicity breaking (trapping by local minima) we expect the rate of local excitations to be smaller than the rate of general excitations. Quantum-Boltzmann and noise effects can also lead to bias in estimators."
   ]
  },
  {
   "cell_type": "markdown",
   "id": "982d52be-6662-4428-9a59-9db03f67ca2c",
   "metadata": {},
   "source": [
    "## Jupyter notebook syntax (for reference, delete later)\n",
    "\n",
    "This is some plain text that forms a paragraph. Add emphasis via **bold** or __bold__, and *italic* or _italic_.\n",
    "\n",
    "Paragraphs must be separated by an empty line.\n",
    "\n",
    "* Sometimes we want to include lists.\n",
    "* Which can be bulleted using asterisks.\n",
    "\n",
    "1. Lists can also be numbered.\n",
    "2. If we want an ordered list.\n",
    "\n",
    "[It is possible to include hyperlinks](https://www.dataquest.io)\n",
    "\n",
    "Inline code uses single backticks: `foo()`, and code blocks use triple backticks:\n",
    "```\n",
    "bar()\n",
    "```\n",
    "Or can be indented by 4 spaces:\n",
    "```\n",
    "    foo()\n",
    "```\n",
    "\n",
    "And finally, adding images is easy: ![Alt text](https://www.dataquest.io/wp-content/uploads/2023/02/DQ-Logo.svg)\n"
   ]
  },
  {
   "cell_type": "markdown",
   "id": "7ef23c2b-ca8d-4f31-aaf2-795789ff3eff",
   "metadata": {},
   "source": []
  },
  {
   "cell_type": "code",
   "execution_count": null,
   "id": "95adf42a-8731-4472-9572-eff442f1ee2e",
   "metadata": {},
   "outputs": [],
   "source": []
  }
 ],
 "metadata": {
  "kernelspec": {
   "display_name": "Python 3 (ipykernel)",
   "language": "python",
   "name": "python3"
  },
  "language_info": {
   "codemirror_mode": {
    "name": "ipython",
    "version": 3
   },
   "file_extension": ".py",
   "mimetype": "text/x-python",
   "name": "python",
   "nbconvert_exporter": "python",
   "pygments_lexer": "ipython3",
   "version": "3.11.11"
  }
 },
 "nbformat": 4,
 "nbformat_minor": 5
}
